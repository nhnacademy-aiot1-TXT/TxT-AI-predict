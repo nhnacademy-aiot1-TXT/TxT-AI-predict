{
 "cells": [
  {
   "cell_type": "code",
   "execution_count": null,
   "metadata": {},
   "outputs": [],
   "source": [
    "# 전체 데이터 들고오기 (influxdb 출력)\n",
    "from influxdb_client import InfluxDBClient\n",
    "\n",
    "# influxdb connect\n",
    "url = 'http://133.186.251.19:8086'\n",
    "token = 'auLmfVaJpvWUbnMxhbixfgq5JjFrleKTNxnFphRZ_tfVHoypyyXhBe3zHT07tqRTylE15VRmjuNFX9-u9uv6nA=='\n",
    "org = 'TXT'\n",
    "bucket = 'TxT-iot'\n",
    "\n",
    "# influxdb bucket에서 data read\n",
    "with InfluxDBClient(url=url, token=token, org=org) as client:\n",
    "    query_api = client.query_api()\n",
    "\n",
    "    tables = query_api.query('from(bucket: \"TxT-iot\") |> range(start: -1d)')\n",
    "\n",
    "    for table in tables:\n",
    "        for record in table.records:\n",
    "            print(str(record[\"_time\"]) + \" - \" + record.get_measurement()\n",
    "                  + \" \" + record.get_field() + \"=\" + str(record.get_value()))\n"
   ]
  },
  {
   "cell_type": "code",
   "execution_count": null,
   "metadata": {},
   "outputs": [],
   "source": [
    "#humidity\n",
    "from influxdb_client import InfluxDBClient, Point\n",
    "from influxdb_client.client.write_api import SYNCHRONOUS\n",
    "from datetime import datetime\n",
    "\n",
    "# InfluxDB 클라이언트 인스턴스 생성\n",
    "client = InfluxDBClient(url=url, token=token)\n",
    "query_api = client.query_api()\n",
    "\n",
    "# 쿼리 구성\n",
    "query = '''\n",
    "    from(bucket: \"TxT-iot\")\n",
    "        |> range(start: -1h)\n",
    "        |> filter(fn: (r) => r[\"_measurement\"] == \"humidity\")\n",
    "        |> filter(fn: (r) => r[\"_field\"] == \"value\")\n",
    "        |> timeShift(duration: 9h)\n",
    "'''\n",
    "\n",
    "# 쿼리 실행 및 결과 가져오기\n",
    "result = client.query_api().query(org=org, query=query)\n",
    "\n",
    "# 결과 출력\n",
    "for table in result:\n",
    "    for record in table.records:\n",
    "        print(f\"Time: {record.get_time()}, Measurement: {record.get_measurement()}, Value: {record.get_value()}\")"
   ]
  }
 ],
 "metadata": {
  "kernelspec": {
   "display_name": "base",
   "language": "python",
   "name": "python3"
  },
  "language_info": {
   "name": "python",
   "version": "3.9.18"
  }
 },
 "nbformat": 4,
 "nbformat_minor": 2
}
