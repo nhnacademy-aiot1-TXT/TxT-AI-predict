{
 "cells": [
  {
   "cell_type": "code",
   "execution_count": null,
   "metadata": {},
   "outputs": [],
   "source": [
    "#joblib 이용\n",
    "import joblib\n",
    "\n",
    "loaded_model = joblib.load('./')  #저장된 파일 이름\n",
    "\n",
    "# 정확도 확인하고 싶을 때\n",
    "score = loaded_model.score(X,y)\n",
    "print('정확도: {score:.3f}'.format(score=score))"
   ]
  },
  {
   "cell_type": "code",
   "execution_count": null,
   "metadata": {},
   "outputs": [],
   "source": [
    "#pickle 이용\n",
    "import pickle\n",
    "with open('modelName', 'rb') as f:\n",
    "    model = pickle.load(f)"
   ]
  }
 ],
 "metadata": {
  "kernelspec": {
   "display_name": "base",
   "language": "python",
   "name": "python3"
  },
  "language_info": {
   "codemirror_mode": {
    "name": "ipython",
    "version": 3
   },
   "file_extension": ".py",
   "mimetype": "text/x-python",
   "name": "python",
   "nbconvert_exporter": "python",
   "pygments_lexer": "ipython3",
   "version": "3.9.18"
  }
 },
 "nbformat": 4,
 "nbformat_minor": 2
}
