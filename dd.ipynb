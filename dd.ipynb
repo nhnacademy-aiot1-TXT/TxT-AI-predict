{
 "cells": [
  {
   "cell_type": "code",
   "execution_count": 7,
   "metadata": {},
   "outputs": [
    {
     "ename": "ProbableAuthenticationError",
     "evalue": "ConnectionClosedByBroker: (403) 'ACCESS_REFUSED - Login was refused using authentication mechanism PLAIN. For details see the broker logfile.'",
     "output_type": "error",
     "traceback": [
      "\u001b[0;31m---------------------------------------------------------------------------\u001b[0m",
      "\u001b[0;31mProbableAuthenticationError\u001b[0m               Traceback (most recent call last)",
      "Cell \u001b[0;32mIn[7], line 4\u001b[0m\n\u001b[1;32m      1\u001b[0m \u001b[38;5;66;03m#!/usr/bin/env python\u001b[39;00m\n\u001b[1;32m      2\u001b[0m \u001b[38;5;28;01mimport\u001b[39;00m \u001b[38;5;21;01mpika\u001b[39;00m\n\u001b[0;32m----> 4\u001b[0m connection \u001b[38;5;241m=\u001b[39m \u001b[43mpika\u001b[49m\u001b[38;5;241;43m.\u001b[39;49m\u001b[43mBlockingConnection\u001b[49m\u001b[43m(\u001b[49m\u001b[43mpika\u001b[49m\u001b[38;5;241;43m.\u001b[39;49m\u001b[43mConnectionParameters\u001b[49m\u001b[43m(\u001b[49m\u001b[38;5;124;43m'\u001b[39;49m\u001b[38;5;124;43m133.186.221.92\u001b[39;49m\u001b[38;5;124;43m'\u001b[39;49m\u001b[43m)\u001b[49m\u001b[43m)\u001b[49m\n\u001b[1;32m      5\u001b[0m channel \u001b[38;5;241m=\u001b[39m connection\u001b[38;5;241m.\u001b[39mchannel()\n",
      "File \u001b[0;32m~/anaconda3/lib/python3.9/site-packages/pika/adapters/blocking_connection.py:360\u001b[0m, in \u001b[0;36mBlockingConnection.__init__\u001b[0;34m(self, parameters, _impl_class)\u001b[0m\n\u001b[1;32m    358\u001b[0m \u001b[38;5;66;03m# Perform connection workflow\u001b[39;00m\n\u001b[1;32m    359\u001b[0m \u001b[38;5;28mself\u001b[39m\u001b[38;5;241m.\u001b[39m_impl \u001b[38;5;241m=\u001b[39m \u001b[38;5;28;01mNone\u001b[39;00m  \u001b[38;5;66;03m# so that attribute is created in case below raises\u001b[39;00m\n\u001b[0;32m--> 360\u001b[0m \u001b[38;5;28mself\u001b[39m\u001b[38;5;241m.\u001b[39m_impl \u001b[38;5;241m=\u001b[39m \u001b[38;5;28;43mself\u001b[39;49m\u001b[38;5;241;43m.\u001b[39;49m\u001b[43m_create_connection\u001b[49m\u001b[43m(\u001b[49m\u001b[43mparameters\u001b[49m\u001b[43m,\u001b[49m\u001b[43m \u001b[49m\u001b[43m_impl_class\u001b[49m\u001b[43m)\u001b[49m\n\u001b[1;32m    361\u001b[0m \u001b[38;5;28mself\u001b[39m\u001b[38;5;241m.\u001b[39m_impl\u001b[38;5;241m.\u001b[39madd_on_close_callback(\u001b[38;5;28mself\u001b[39m\u001b[38;5;241m.\u001b[39m_closed_result\u001b[38;5;241m.\u001b[39mset_value_once)\n",
      "File \u001b[0;32m~/anaconda3/lib/python3.9/site-packages/pika/adapters/blocking_connection.py:451\u001b[0m, in \u001b[0;36mBlockingConnection._create_connection\u001b[0;34m(self, configs, impl_class)\u001b[0m\n\u001b[1;32m    449\u001b[0m     error \u001b[38;5;241m=\u001b[39m on_cw_done_result\u001b[38;5;241m.\u001b[39mvalue\u001b[38;5;241m.\u001b[39mresult\n\u001b[1;32m    450\u001b[0m     LOGGER\u001b[38;5;241m.\u001b[39merror(\u001b[38;5;124m'\u001b[39m\u001b[38;5;124mConnection workflow failed: \u001b[39m\u001b[38;5;132;01m%r\u001b[39;00m\u001b[38;5;124m'\u001b[39m, error)\n\u001b[0;32m--> 451\u001b[0m     \u001b[38;5;28;01mraise\u001b[39;00m \u001b[38;5;28mself\u001b[39m\u001b[38;5;241m.\u001b[39m_reap_last_connection_workflow_error(error)\n\u001b[1;32m    452\u001b[0m \u001b[38;5;28;01melse\u001b[39;00m:\n\u001b[1;32m    453\u001b[0m     LOGGER\u001b[38;5;241m.\u001b[39minfo(\u001b[38;5;124m'\u001b[39m\u001b[38;5;124mConnection workflow succeeded: \u001b[39m\u001b[38;5;132;01m%r\u001b[39;00m\u001b[38;5;124m'\u001b[39m,\n\u001b[1;32m    454\u001b[0m                 on_cw_done_result\u001b[38;5;241m.\u001b[39mvalue\u001b[38;5;241m.\u001b[39mresult)\n",
      "\u001b[0;31mProbableAuthenticationError\u001b[0m: ConnectionClosedByBroker: (403) 'ACCESS_REFUSED - Login was refused using authentication mechanism PLAIN. For details see the broker logfile.'"
     ]
    }
   ],
   "source": [
    "#!/usr/bin/env python\n",
    "import pika\n",
    "\n",
    "connection = pika.BlockingConnection(pika.ConnectionParameters('133.186.221.92'))\n",
    "channel = connection.channel()"
   ]
  },
  {
   "cell_type": "code",
   "execution_count": 5,
   "metadata": {},
   "outputs": [
    {
     "ename": "ProbableAuthenticationError",
     "evalue": "ConnectionClosedByBroker: (403) 'ACCESS_REFUSED - Login was refused using authentication mechanism PLAIN. For details see the broker logfile.'",
     "output_type": "error",
     "traceback": [
      "\u001b[0;31m---------------------------------------------------------------------------\u001b[0m",
      "\u001b[0;31mProbableAuthenticationError\u001b[0m               Traceback (most recent call last)",
      "Cell \u001b[0;32mIn[5], line 4\u001b[0m\n\u001b[1;32m      1\u001b[0m \u001b[38;5;66;03m#Pub\u001b[39;00m\n\u001b[1;32m      2\u001b[0m \u001b[38;5;28;01mimport\u001b[39;00m \u001b[38;5;21;01mpika\u001b[39;00m\n\u001b[0;32m----> 4\u001b[0m connection \u001b[38;5;241m=\u001b[39m \u001b[43mpika\u001b[49m\u001b[38;5;241;43m.\u001b[39;49m\u001b[43mBlockingConnection\u001b[49m\u001b[43m(\u001b[49m\n\u001b[1;32m      5\u001b[0m \u001b[43m    \u001b[49m\u001b[43mpika\u001b[49m\u001b[38;5;241;43m.\u001b[39;49m\u001b[43mConnectionParameters\u001b[49m\u001b[43m(\u001b[49m\u001b[43mhost\u001b[49m\u001b[38;5;241;43m=\u001b[39;49m\u001b[38;5;124;43m'\u001b[39;49m\u001b[38;5;124;43m133.186.221.92\u001b[39;49m\u001b[38;5;124;43m'\u001b[39;49m\u001b[43m)\u001b[49m\n\u001b[1;32m      6\u001b[0m \u001b[43m)\u001b[49m\n\u001b[1;32m      8\u001b[0m channel \u001b[38;5;241m=\u001b[39m connection\u001b[38;5;241m.\u001b[39mchannel()\n\u001b[1;32m     10\u001b[0m channel\u001b[38;5;241m.\u001b[39mqueue_declare(queue\u001b[38;5;241m=\u001b[39m\u001b[38;5;124m'\u001b[39m\u001b[38;5;124mtxt.light.queue\u001b[39m\u001b[38;5;124m'\u001b[39m)\n",
      "File \u001b[0;32m~/anaconda3/lib/python3.9/site-packages/pika/adapters/blocking_connection.py:360\u001b[0m, in \u001b[0;36mBlockingConnection.__init__\u001b[0;34m(self, parameters, _impl_class)\u001b[0m\n\u001b[1;32m    358\u001b[0m \u001b[38;5;66;03m# Perform connection workflow\u001b[39;00m\n\u001b[1;32m    359\u001b[0m \u001b[38;5;28mself\u001b[39m\u001b[38;5;241m.\u001b[39m_impl \u001b[38;5;241m=\u001b[39m \u001b[38;5;28;01mNone\u001b[39;00m  \u001b[38;5;66;03m# so that attribute is created in case below raises\u001b[39;00m\n\u001b[0;32m--> 360\u001b[0m \u001b[38;5;28mself\u001b[39m\u001b[38;5;241m.\u001b[39m_impl \u001b[38;5;241m=\u001b[39m \u001b[38;5;28;43mself\u001b[39;49m\u001b[38;5;241;43m.\u001b[39;49m\u001b[43m_create_connection\u001b[49m\u001b[43m(\u001b[49m\u001b[43mparameters\u001b[49m\u001b[43m,\u001b[49m\u001b[43m \u001b[49m\u001b[43m_impl_class\u001b[49m\u001b[43m)\u001b[49m\n\u001b[1;32m    361\u001b[0m \u001b[38;5;28mself\u001b[39m\u001b[38;5;241m.\u001b[39m_impl\u001b[38;5;241m.\u001b[39madd_on_close_callback(\u001b[38;5;28mself\u001b[39m\u001b[38;5;241m.\u001b[39m_closed_result\u001b[38;5;241m.\u001b[39mset_value_once)\n",
      "File \u001b[0;32m~/anaconda3/lib/python3.9/site-packages/pika/adapters/blocking_connection.py:451\u001b[0m, in \u001b[0;36mBlockingConnection._create_connection\u001b[0;34m(self, configs, impl_class)\u001b[0m\n\u001b[1;32m    449\u001b[0m     error \u001b[38;5;241m=\u001b[39m on_cw_done_result\u001b[38;5;241m.\u001b[39mvalue\u001b[38;5;241m.\u001b[39mresult\n\u001b[1;32m    450\u001b[0m     LOGGER\u001b[38;5;241m.\u001b[39merror(\u001b[38;5;124m'\u001b[39m\u001b[38;5;124mConnection workflow failed: \u001b[39m\u001b[38;5;132;01m%r\u001b[39;00m\u001b[38;5;124m'\u001b[39m, error)\n\u001b[0;32m--> 451\u001b[0m     \u001b[38;5;28;01mraise\u001b[39;00m \u001b[38;5;28mself\u001b[39m\u001b[38;5;241m.\u001b[39m_reap_last_connection_workflow_error(error)\n\u001b[1;32m    452\u001b[0m \u001b[38;5;28;01melse\u001b[39;00m:\n\u001b[1;32m    453\u001b[0m     LOGGER\u001b[38;5;241m.\u001b[39minfo(\u001b[38;5;124m'\u001b[39m\u001b[38;5;124mConnection workflow succeeded: \u001b[39m\u001b[38;5;132;01m%r\u001b[39;00m\u001b[38;5;124m'\u001b[39m,\n\u001b[1;32m    454\u001b[0m                 on_cw_done_result\u001b[38;5;241m.\u001b[39mvalue\u001b[38;5;241m.\u001b[39mresult)\n",
      "\u001b[0;31mProbableAuthenticationError\u001b[0m: ConnectionClosedByBroker: (403) 'ACCESS_REFUSED - Login was refused using authentication mechanism PLAIN. For details see the broker logfile.'"
     ]
    }
   ],
   "source": [
    "#Pub\n",
    "import pika\n",
    "\n",
    "connection = pika.BlockingConnection(\n",
    "    pika.ConnectionParameters(host='133.186.221.92')\n",
    ")\n",
    "\n",
    "channel = connection.channel()\n",
    "\n",
    "channel.queue_declare(queue='txt.light.queue')\n",
    "\n",
    "channel.basic_publish(exchange='txt.device.control',\n",
    "                      routing_key='txt.light',\n",
    "                      body='Hello World!')\n",
    "\n",
    "connection.close()\n"
   ]
  },
  {
   "cell_type": "code",
   "execution_count": 4,
   "metadata": {},
   "outputs": [
    {
     "ename": "ProbableAuthenticationError",
     "evalue": "ConnectionClosedByBroker: (403) 'ACCESS_REFUSED - Login was refused using authentication mechanism PLAIN. For details see the broker logfile.'",
     "output_type": "error",
     "traceback": [
      "\u001b[0;31m---------------------------------------------------------------------------\u001b[0m",
      "\u001b[0;31mProbableAuthenticationError\u001b[0m               Traceback (most recent call last)",
      "Cell \u001b[0;32mIn[4], line 4\u001b[0m\n\u001b[1;32m      1\u001b[0m \u001b[38;5;66;03m#Sub\u001b[39;00m\n\u001b[1;32m      2\u001b[0m \u001b[38;5;28;01mimport\u001b[39;00m \u001b[38;5;21;01mpika\u001b[39;00m\n\u001b[0;32m----> 4\u001b[0m connection \u001b[38;5;241m=\u001b[39m \u001b[43mpika\u001b[49m\u001b[38;5;241;43m.\u001b[39;49m\u001b[43mBlockingConnection\u001b[49m\u001b[43m(\u001b[49m\n\u001b[1;32m      5\u001b[0m \u001b[43m    \u001b[49m\u001b[43mpika\u001b[49m\u001b[38;5;241;43m.\u001b[39;49m\u001b[43mConnectionParameters\u001b[49m\u001b[43m(\u001b[49m\u001b[43mhost\u001b[49m\u001b[38;5;241;43m=\u001b[39;49m\u001b[38;5;124;43m'\u001b[39;49m\u001b[38;5;124;43m133.186.221.92\u001b[39;49m\u001b[38;5;124;43m'\u001b[39;49m\u001b[43m)\u001b[49m\n\u001b[1;32m      6\u001b[0m \u001b[43m)\u001b[49m\n\u001b[1;32m      8\u001b[0m channel \u001b[38;5;241m=\u001b[39m connection\u001b[38;5;241m.\u001b[39mchannel()\n\u001b[1;32m     10\u001b[0m channel\u001b[38;5;241m.\u001b[39mqueue_declare(queue\u001b[38;5;241m=\u001b[39m\u001b[38;5;124m'\u001b[39m\u001b[38;5;124mhello\u001b[39m\u001b[38;5;124m'\u001b[39m)\n",
      "File \u001b[0;32m~/anaconda3/lib/python3.9/site-packages/pika/adapters/blocking_connection.py:360\u001b[0m, in \u001b[0;36mBlockingConnection.__init__\u001b[0;34m(self, parameters, _impl_class)\u001b[0m\n\u001b[1;32m    358\u001b[0m \u001b[38;5;66;03m# Perform connection workflow\u001b[39;00m\n\u001b[1;32m    359\u001b[0m \u001b[38;5;28mself\u001b[39m\u001b[38;5;241m.\u001b[39m_impl \u001b[38;5;241m=\u001b[39m \u001b[38;5;28;01mNone\u001b[39;00m  \u001b[38;5;66;03m# so that attribute is created in case below raises\u001b[39;00m\n\u001b[0;32m--> 360\u001b[0m \u001b[38;5;28mself\u001b[39m\u001b[38;5;241m.\u001b[39m_impl \u001b[38;5;241m=\u001b[39m \u001b[38;5;28;43mself\u001b[39;49m\u001b[38;5;241;43m.\u001b[39;49m\u001b[43m_create_connection\u001b[49m\u001b[43m(\u001b[49m\u001b[43mparameters\u001b[49m\u001b[43m,\u001b[49m\u001b[43m \u001b[49m\u001b[43m_impl_class\u001b[49m\u001b[43m)\u001b[49m\n\u001b[1;32m    361\u001b[0m \u001b[38;5;28mself\u001b[39m\u001b[38;5;241m.\u001b[39m_impl\u001b[38;5;241m.\u001b[39madd_on_close_callback(\u001b[38;5;28mself\u001b[39m\u001b[38;5;241m.\u001b[39m_closed_result\u001b[38;5;241m.\u001b[39mset_value_once)\n",
      "File \u001b[0;32m~/anaconda3/lib/python3.9/site-packages/pika/adapters/blocking_connection.py:451\u001b[0m, in \u001b[0;36mBlockingConnection._create_connection\u001b[0;34m(self, configs, impl_class)\u001b[0m\n\u001b[1;32m    449\u001b[0m     error \u001b[38;5;241m=\u001b[39m on_cw_done_result\u001b[38;5;241m.\u001b[39mvalue\u001b[38;5;241m.\u001b[39mresult\n\u001b[1;32m    450\u001b[0m     LOGGER\u001b[38;5;241m.\u001b[39merror(\u001b[38;5;124m'\u001b[39m\u001b[38;5;124mConnection workflow failed: \u001b[39m\u001b[38;5;132;01m%r\u001b[39;00m\u001b[38;5;124m'\u001b[39m, error)\n\u001b[0;32m--> 451\u001b[0m     \u001b[38;5;28;01mraise\u001b[39;00m \u001b[38;5;28mself\u001b[39m\u001b[38;5;241m.\u001b[39m_reap_last_connection_workflow_error(error)\n\u001b[1;32m    452\u001b[0m \u001b[38;5;28;01melse\u001b[39;00m:\n\u001b[1;32m    453\u001b[0m     LOGGER\u001b[38;5;241m.\u001b[39minfo(\u001b[38;5;124m'\u001b[39m\u001b[38;5;124mConnection workflow succeeded: \u001b[39m\u001b[38;5;132;01m%r\u001b[39;00m\u001b[38;5;124m'\u001b[39m,\n\u001b[1;32m    454\u001b[0m                 on_cw_done_result\u001b[38;5;241m.\u001b[39mvalue\u001b[38;5;241m.\u001b[39mresult)\n",
      "\u001b[0;31mProbableAuthenticationError\u001b[0m: ConnectionClosedByBroker: (403) 'ACCESS_REFUSED - Login was refused using authentication mechanism PLAIN. For details see the broker logfile.'"
     ]
    }
   ],
   "source": [
    "#Sub\n",
    "import pika\n",
    "\n",
    "connection = pika.BlockingConnection(\n",
    "    pika.ConnectionParameters(host='133.186.221.92')\n",
    ")\n",
    "\n",
    "channel = connection.channel()\n",
    "\n",
    "channel.queue_declare(queue='hello')\n",
    "\n",
    "\n",
    "def callback(ch, method, properties, body):\n",
    "    print(f\"Received: {body}\")\n",
    "\n",
    "\n",
    "channel.basic_consume(queue='hello',\n",
    "                      on_message_callback=callback,\n",
    "                      auto_ack=True)\n",
    "\n",
    "channel.start_consuming()\n"
   ]
  }
 ],
 "metadata": {
  "kernelspec": {
   "display_name": "base",
   "language": "python",
   "name": "python3"
  },
  "language_info": {
   "codemirror_mode": {
    "name": "ipython",
    "version": 3
   },
   "file_extension": ".py",
   "mimetype": "text/x-python",
   "name": "python",
   "nbconvert_exporter": "python",
   "pygments_lexer": "ipython3",
   "version": "3.9.18"
  }
 },
 "nbformat": 4,
 "nbformat_minor": 2
}
